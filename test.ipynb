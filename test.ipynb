{
 "cells": [
  {
   "cell_type": "code",
   "execution_count": 2,
   "metadata": {},
   "outputs": [],
   "source": [
    "import pandas as pd\n",
    "import joblib"
   ]
  },
  {
   "cell_type": "code",
   "execution_count": 3,
   "metadata": {},
   "outputs": [],
   "source": [
    "df = pd.read_csv('./datasets/cleaned/clean_val.csv')"
   ]
  },
  {
   "cell_type": "code",
   "execution_count": 4,
   "metadata": {},
   "outputs": [],
   "source": [
    "knn_model = joblib.load('./saved_models/knn_44k.joblib')\n",
    "svc_model = joblib.load('./saved_models/svc_44k.joblib')\n"
   ]
  },
  {
   "cell_type": "code",
   "execution_count": 5,
   "metadata": {},
   "outputs": [],
   "source": [
    "from sklearn.model_selection import train_test_split\n",
    "\n",
    "X = df.drop(['label'], axis=1)\n",
    "y = df['label']"
   ]
  },
  {
   "cell_type": "code",
   "execution_count": 6,
   "metadata": {},
   "outputs": [
    {
     "name": "stdout",
     "output_type": "stream",
     "text": [
      "Classification Report for KNN:\n",
      "               precision    recall  f1-score   support\n",
      "\n",
      "           0       0.88      0.97      0.93       200\n",
      "           1       0.97      0.87      0.92       200\n",
      "\n",
      "    accuracy                           0.92       400\n",
      "   macro avg       0.93      0.92      0.92       400\n",
      "weighted avg       0.93      0.92      0.92       400\n",
      "\n",
      "Confusion Matrix for KNN:\n",
      " [[195   5]\n",
      " [ 26 174]]\n"
     ]
    }
   ],
   "source": [
    "from sklearn.metrics import classification_report, confusion_matrix\n",
    "\n",
    "knn_pred = knn_model.predict(X)\n",
    "\n",
    "print(\"Classification Report for KNN:\\n\", classification_report(y, knn_pred))\n",
    "print(\"Confusion Matrix for KNN:\\n\", confusion_matrix(y, knn_pred))"
   ]
  },
  {
   "cell_type": "code",
   "execution_count": 6,
   "metadata": {},
   "outputs": [
    {
     "name": "stdout",
     "output_type": "stream",
     "text": [
      "Classification Report for SVC:\n",
      "               precision    recall  f1-score   support\n",
      "\n",
      "           0       0.89      0.95      0.92       200\n",
      "           1       0.95      0.89      0.92       200\n",
      "\n",
      "    accuracy                           0.92       400\n",
      "   macro avg       0.92      0.92      0.92       400\n",
      "weighted avg       0.92      0.92      0.92       400\n",
      "\n",
      "Confusion Matrix for SVC:\n",
      " [[191   9]\n",
      " [ 23 177]]\n"
     ]
    }
   ],
   "source": [
    "svc_pred = svc_model.predict(X)\n",
    "\n",
    "print(\"Classification Report for SVC:\\n\", classification_report(y, svc_pred))\n",
    "print(\"Confusion Matrix for SVC:\\n\", confusion_matrix(y, svc_pred))"
   ]
  },
  {
   "cell_type": "code",
   "execution_count": 8,
   "metadata": {},
   "outputs": [
    {
     "name": "stdout",
     "output_type": "stream",
     "text": [
      "Collecting whois\n",
      "  Downloading whois-1.20240129.2-py3-none-any.whl.metadata (1.3 kB)\n",
      "Downloading whois-1.20240129.2-py3-none-any.whl (61 kB)\n",
      "Installing collected packages: whois\n",
      "Successfully installed whois-1.20240129.2\n",
      "Note: you may need to restart the kernel to use updated packages.\n"
     ]
    }
   ],
   "source": [
    "%pip install whois"
   ]
  },
  {
   "cell_type": "code",
   "execution_count": 1,
   "metadata": {},
   "outputs": [
    {
     "name": "stderr",
     "output_type": "stream",
     "text": [
      "Processing URLs: 100%|██████████| 1/1 [00:00<00:00, 38.02it/s]\n"
     ]
    },
    {
     "data": {
      "text/html": [
       "<div>\n",
       "<style scoped>\n",
       "    .dataframe tbody tr th:only-of-type {\n",
       "        vertical-align: middle;\n",
       "    }\n",
       "\n",
       "    .dataframe tbody tr th {\n",
       "        vertical-align: top;\n",
       "    }\n",
       "\n",
       "    .dataframe thead th {\n",
       "        text-align: right;\n",
       "    }\n",
       "</style>\n",
       "<table border=\"1\" class=\"dataframe\">\n",
       "  <thead>\n",
       "    <tr style=\"text-align: right;\">\n",
       "      <th></th>\n",
       "      <th>URL_Length</th>\n",
       "      <th>Url_Shortening</th>\n",
       "      <th>Ssl_Info</th>\n",
       "      <th>Global_Ranking</th>\n",
       "      <th>Has_Suspicious_Params</th>\n",
       "      <th>Num_Languages</th>\n",
       "      <th>Uses_HTTPS</th>\n",
       "      <th>Has_User_Info</th>\n",
       "      <th>User_Info_Length</th>\n",
       "      <th>Num_Subdomains</th>\n",
       "      <th>...</th>\n",
       "      <th>Num_Dots_Query</th>\n",
       "      <th>Num_Dash_Query</th>\n",
       "      <th>Num_AtSymbol_Query</th>\n",
       "      <th>Num_TildeSymbol_Query</th>\n",
       "      <th>Num_Underscore_Query</th>\n",
       "      <th>Num_Percent_Query</th>\n",
       "      <th>Num_Ampersand_Query</th>\n",
       "      <th>Num_Hash_Query</th>\n",
       "      <th>Hex_Encoded_Characters_Query</th>\n",
       "      <th>Has_Fragment</th>\n",
       "    </tr>\n",
       "  </thead>\n",
       "  <tbody>\n",
       "    <tr>\n",
       "      <th>0</th>\n",
       "      <td>15</td>\n",
       "      <td>False</td>\n",
       "      <td>None</td>\n",
       "      <td>None</td>\n",
       "      <td>False</td>\n",
       "      <td>1</td>\n",
       "      <td>0</td>\n",
       "      <td>False</td>\n",
       "      <td>0</td>\n",
       "      <td>0</td>\n",
       "      <td>...</td>\n",
       "      <td>0</td>\n",
       "      <td>0</td>\n",
       "      <td>0</td>\n",
       "      <td>0</td>\n",
       "      <td>0</td>\n",
       "      <td>0</td>\n",
       "      <td>0</td>\n",
       "      <td>0</td>\n",
       "      <td>0</td>\n",
       "      <td>False</td>\n",
       "    </tr>\n",
       "  </tbody>\n",
       "</table>\n",
       "<p>1 rows × 66 columns</p>\n",
       "</div>"
      ],
      "text/plain": [
       "   URL_Length  Url_Shortening Ssl_Info Global_Ranking  Has_Suspicious_Params  \\\n",
       "0          15           False     None           None                  False   \n",
       "\n",
       "   Num_Languages  Uses_HTTPS  Has_User_Info  User_Info_Length  Num_Subdomains  \\\n",
       "0              1           0          False                 0               0   \n",
       "\n",
       "   ...  Num_Dots_Query  Num_Dash_Query  Num_AtSymbol_Query  \\\n",
       "0  ...               0               0                   0   \n",
       "\n",
       "   Num_TildeSymbol_Query  Num_Underscore_Query  Num_Percent_Query  \\\n",
       "0                      0                     0                  0   \n",
       "\n",
       "   Num_Ampersand_Query  Num_Hash_Query  Hex_Encoded_Characters_Query  \\\n",
       "0                    0               0                             0   \n",
       "\n",
       "   Has_Fragment  \n",
       "0         False  \n",
       "\n",
       "[1 rows x 66 columns]"
      ]
     },
     "execution_count": 1,
     "metadata": {},
     "output_type": "execute_result"
    }
   ],
   "source": [
    "from URL_Parameter_Extraction_Pipeline import URLFeatureExtractor\n",
    "import pandas as pd\n",
    "\n",
    "feature_extractor = URLFeatureExtractor()\n",
    "\n",
    "X_transformed = feature_extractor.fit_transform(['candle-dream.de'])\n",
    "\n",
    "X_transformed\n"
   ]
  },
  {
   "cell_type": "code",
   "execution_count": 4,
   "metadata": {},
   "outputs": [
    {
     "data": {
      "text/html": [
       "<div>\n",
       "<style scoped>\n",
       "    .dataframe tbody tr th:only-of-type {\n",
       "        vertical-align: middle;\n",
       "    }\n",
       "\n",
       "    .dataframe tbody tr th {\n",
       "        vertical-align: top;\n",
       "    }\n",
       "\n",
       "    .dataframe thead th {\n",
       "        text-align: right;\n",
       "    }\n",
       "</style>\n",
       "<table border=\"1\" class=\"dataframe\">\n",
       "  <thead>\n",
       "    <tr style=\"text-align: right;\">\n",
       "      <th></th>\n",
       "      <th>URL_Length</th>\n",
       "      <th>Url_Shortening</th>\n",
       "      <th>Ssl_Info</th>\n",
       "      <th>Global_Ranking</th>\n",
       "      <th>Has_Suspicious_Params</th>\n",
       "      <th>Num_Languages</th>\n",
       "      <th>Uses_HTTPS</th>\n",
       "      <th>Has_User_Info</th>\n",
       "      <th>User_Info_Length</th>\n",
       "      <th>Num_Subdomains</th>\n",
       "      <th>...</th>\n",
       "      <th>Num_Dots_Query</th>\n",
       "      <th>Num_Dash_Query</th>\n",
       "      <th>Num_AtSymbol_Query</th>\n",
       "      <th>Num_TildeSymbol_Query</th>\n",
       "      <th>Num_Underscore_Query</th>\n",
       "      <th>Num_Percent_Query</th>\n",
       "      <th>Num_Ampersand_Query</th>\n",
       "      <th>Num_Hash_Query</th>\n",
       "      <th>Hex_Encoded_Characters_Query</th>\n",
       "      <th>Has_Fragment</th>\n",
       "    </tr>\n",
       "  </thead>\n",
       "  <tbody>\n",
       "    <tr>\n",
       "      <th>0</th>\n",
       "      <td>15</td>\n",
       "      <td>False</td>\n",
       "      <td>None</td>\n",
       "      <td>None</td>\n",
       "      <td>False</td>\n",
       "      <td>1</td>\n",
       "      <td>0</td>\n",
       "      <td>False</td>\n",
       "      <td>0</td>\n",
       "      <td>0</td>\n",
       "      <td>...</td>\n",
       "      <td>0</td>\n",
       "      <td>0</td>\n",
       "      <td>0</td>\n",
       "      <td>0</td>\n",
       "      <td>0</td>\n",
       "      <td>0</td>\n",
       "      <td>0</td>\n",
       "      <td>0</td>\n",
       "      <td>0</td>\n",
       "      <td>False</td>\n",
       "    </tr>\n",
       "  </tbody>\n",
       "</table>\n",
       "<p>1 rows × 66 columns</p>\n",
       "</div>"
      ],
      "text/plain": [
       "   URL_Length  Url_Shortening Ssl_Info Global_Ranking  Has_Suspicious_Params  \\\n",
       "0          15           False     None           None                  False   \n",
       "\n",
       "   Num_Languages  Uses_HTTPS  Has_User_Info  User_Info_Length  Num_Subdomains  \\\n",
       "0              1           0          False                 0               0   \n",
       "\n",
       "   ...  Num_Dots_Query  Num_Dash_Query  Num_AtSymbol_Query  \\\n",
       "0  ...               0               0                   0   \n",
       "\n",
       "   Num_TildeSymbol_Query  Num_Underscore_Query  Num_Percent_Query  \\\n",
       "0                      0                     0                  0   \n",
       "\n",
       "   Num_Ampersand_Query  Num_Hash_Query  Hex_Encoded_Characters_Query  \\\n",
       "0                    0               0                             0   \n",
       "\n",
       "   Has_Fragment  \n",
       "0         False  \n",
       "\n",
       "[1 rows x 66 columns]"
      ]
     },
     "execution_count": 4,
     "metadata": {},
     "output_type": "execute_result"
    }
   ],
   "source": [
    "X"
   ]
  },
  {
   "cell_type": "code",
   "execution_count": null,
   "metadata": {},
   "outputs": [
    {
     "name": "stdout",
     "output_type": "stream",
     "text": [
      "URLFeatureExtractor()\n"
     ]
    }
   ],
   "source": []
  }
 ],
 "metadata": {
  "kernelspec": {
   "display_name": "gpu",
   "language": "python",
   "name": "python3"
  },
  "language_info": {
   "codemirror_mode": {
    "name": "ipython",
    "version": 3
   },
   "file_extension": ".py",
   "mimetype": "text/x-python",
   "name": "python",
   "nbconvert_exporter": "python",
   "pygments_lexer": "ipython3",
   "version": "3.10.16"
  }
 },
 "nbformat": 4,
 "nbformat_minor": 2
}
