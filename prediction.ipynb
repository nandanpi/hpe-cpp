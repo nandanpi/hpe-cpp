{
 "cells": [
  {
   "cell_type": "code",
   "execution_count": 46,
   "metadata": {},
   "outputs": [
    {
     "data": {
      "text/plain": [
       "['URL_Length',\n",
       " 'Url_Shortening',\n",
       " 'Num_Languages',\n",
       " 'User_Info_Length',\n",
       " 'Num_Subdomains',\n",
       " 'Num_Digits_Subdomain',\n",
       " 'Num_Hyphens_Subdomain',\n",
       " 'Length_Subdomain',\n",
       " 'Num_Digits_Domain',\n",
       " 'Num_Hyphens_Domain',\n",
       " 'Length_Domain',\n",
       " 'Num_Dots_Domain',\n",
       " 'TLD',\n",
       " 'Num_Digits_Path',\n",
       " 'Num_Hyphens_Path',\n",
       " 'Length_Path',\n",
       " 'Num_Dash_Path',\n",
       " 'Num_Underscore_Path',\n",
       " 'Num_Percent_Path',\n",
       " 'Num_DoubleSlash_Path',\n",
       " 'Hex_Encoded_Characters_Path',\n",
       " 'Num_Digits_Query',\n",
       " 'Num_Hyphens_Query',\n",
       " 'Length_Query',\n",
       " 'Num_Query_Params',\n",
       " 'Num_Dots_Query',\n",
       " 'Num_Dash_Query',\n",
       " 'Num_Underscore_Query',\n",
       " 'Num_Percent_Query',\n",
       " 'Num_Ampersand_Query',\n",
       " 'Hex_Encoded_Characters_Query']"
      ]
     },
     "execution_count": 46,
     "metadata": {},
     "output_type": "execute_result"
    }
   ],
   "source": [
    "import pandas as pd\n",
    "\n",
    "df = pd.read_csv('./datasets/cleaned/clean_136k.csv')\n",
    "cols = ['URL_Length', 'Url_Shortening', 'Num_Languages', 'User_Info_Length',\n",
    "       'Num_Subdomains', 'Num_Digits_Subdomain', 'Num_Hyphens_Subdomain',\n",
    "       'Length_Subdomain', 'Num_Digits_Domain', 'Num_Hyphens_Domain',\n",
    "       'Length_Domain', 'Num_Dots_Domain', 'TLD', 'Num_Digits_Path',\n",
    "       'Num_Hyphens_Path', 'Length_Path', 'Num_Dash_Path',\n",
    "       'Num_Underscore_Path', 'Num_Percent_Path', 'Num_DoubleSlash_Path',\n",
    "       'Hex_Encoded_Characters_Path', 'Num_Digits_Query', 'Num_Hyphens_Query',\n",
    "       'Length_Query', 'Num_Query_Params', 'Num_Dots_Query', 'Num_Dash_Query',\n",
    "       'Num_Underscore_Query', 'Num_Percent_Query', 'Num_Ampersand_Query',\n",
    "       'Hex_Encoded_Characters_Query']\n",
    "cols\n",
    "\n"
   ]
  },
  {
   "cell_type": "code",
   "execution_count": 65,
   "metadata": {},
   "outputs": [
    {
     "name": "stderr",
     "output_type": "stream",
     "text": [
      "Processing URLs: 100%|██████████| 1/1 [00:00<?, ?it/s]\n"
     ]
    },
    {
     "data": {
      "text/html": [
       "<div>\n",
       "<style scoped>\n",
       "    .dataframe tbody tr th:only-of-type {\n",
       "        vertical-align: middle;\n",
       "    }\n",
       "\n",
       "    .dataframe tbody tr th {\n",
       "        vertical-align: top;\n",
       "    }\n",
       "\n",
       "    .dataframe thead th {\n",
       "        text-align: right;\n",
       "    }\n",
       "</style>\n",
       "<table border=\"1\" class=\"dataframe\">\n",
       "  <thead>\n",
       "    <tr style=\"text-align: right;\">\n",
       "      <th></th>\n",
       "      <th>URL_Length</th>\n",
       "      <th>Url_Shortening</th>\n",
       "      <th>Num_Languages</th>\n",
       "      <th>User_Info_Length</th>\n",
       "      <th>Num_Subdomains</th>\n",
       "      <th>Num_Digits_Subdomain</th>\n",
       "      <th>Num_Hyphens_Subdomain</th>\n",
       "      <th>Length_Subdomain</th>\n",
       "      <th>Num_Digits_Domain</th>\n",
       "      <th>Num_Hyphens_Domain</th>\n",
       "      <th>...</th>\n",
       "      <th>Num_Digits_Query</th>\n",
       "      <th>Num_Hyphens_Query</th>\n",
       "      <th>Length_Query</th>\n",
       "      <th>Num_Query_Params</th>\n",
       "      <th>Num_Dots_Query</th>\n",
       "      <th>Num_Dash_Query</th>\n",
       "      <th>Num_Underscore_Query</th>\n",
       "      <th>Num_Percent_Query</th>\n",
       "      <th>Num_Ampersand_Query</th>\n",
       "      <th>Hex_Encoded_Characters_Query</th>\n",
       "    </tr>\n",
       "  </thead>\n",
       "  <tbody>\n",
       "    <tr>\n",
       "      <th>0</th>\n",
       "      <td>45</td>\n",
       "      <td>0</td>\n",
       "      <td>1</td>\n",
       "      <td>0</td>\n",
       "      <td>0</td>\n",
       "      <td>0</td>\n",
       "      <td>0</td>\n",
       "      <td>0</td>\n",
       "      <td>0</td>\n",
       "      <td>0</td>\n",
       "      <td>...</td>\n",
       "      <td>0</td>\n",
       "      <td>0</td>\n",
       "      <td>0</td>\n",
       "      <td>0</td>\n",
       "      <td>0</td>\n",
       "      <td>0</td>\n",
       "      <td>0</td>\n",
       "      <td>0</td>\n",
       "      <td>0</td>\n",
       "      <td>0</td>\n",
       "    </tr>\n",
       "  </tbody>\n",
       "</table>\n",
       "<p>1 rows × 31 columns</p>\n",
       "</div>"
      ],
      "text/plain": [
       "   URL_Length  Url_Shortening  Num_Languages  User_Info_Length  \\\n",
       "0          45               0              1                 0   \n",
       "\n",
       "   Num_Subdomains  Num_Digits_Subdomain  Num_Hyphens_Subdomain  \\\n",
       "0               0                     0                      0   \n",
       "\n",
       "   Length_Subdomain  Num_Digits_Domain  Num_Hyphens_Domain  ...  \\\n",
       "0                 0                  0                   0  ...   \n",
       "\n",
       "   Num_Digits_Query  Num_Hyphens_Query  Length_Query  Num_Query_Params  \\\n",
       "0                 0                  0             0                 0   \n",
       "\n",
       "   Num_Dots_Query  Num_Dash_Query  Num_Underscore_Query  Num_Percent_Query  \\\n",
       "0               0               0                     0                  0   \n",
       "\n",
       "   Num_Ampersand_Query  Hex_Encoded_Characters_Query  \n",
       "0                    0                             0  \n",
       "\n",
       "[1 rows x 31 columns]"
      ]
     },
     "execution_count": 65,
     "metadata": {},
     "output_type": "execute_result"
    }
   ],
   "source": [
    "from URL_Parameter_Extraction_Pipeline import URLFeatureExtractor\n",
    "import joblib\n",
    "test_url = \"allmusic.com/album/crazy-from-the-heat-r16990\"\n",
    "\n",
    "feature_extractor = URLFeatureExtractor()\n",
    "features = feature_extractor.fit_transform(test_url)\n",
    "\n",
    "le = joblib.load('saved_models/label_encoder.joblib')\n",
    "features['TLD'] = le.transform(features['TLD'])\n",
    "# features['Url_Shortening'] = le.transform(features['Url_Shortening'])\n",
    "features['Url_Shortening'] = features['Url_Shortening'].map({True: 1, False: 0})\n",
    "\n",
    "input = features[cols]\n",
    "\n",
    "input\n"
   ]
  },
  {
   "cell_type": "code",
   "execution_count": 66,
   "metadata": {},
   "outputs": [
    {
     "name": "stdout",
     "output_type": "stream",
     "text": [
      "[1]\n",
      "[[3.0000009e-14 1.0000000e+00]]\n"
     ]
    }
   ],
   "source": [
    "import joblib\n",
    "\n",
    "model = joblib.load('saved_models/svc_136k.joblib')\n",
    "\n",
    "prediction = model.predict_proba(input)\n",
    "class_name = model.predict(input)\n",
    "\n",
    "print(class_name)\n",
    "print(prediction[:1])"
   ]
  },
  {
   "cell_type": "code",
   "execution_count": null,
   "metadata": {},
   "outputs": [],
   "source": []
  },
  {
   "cell_type": "code",
   "execution_count": null,
   "metadata": {},
   "outputs": [],
   "source": []
  }
 ],
 "metadata": {
  "kernelspec": {
   "display_name": "gpu",
   "language": "python",
   "name": "python3"
  },
  "language_info": {
   "codemirror_mode": {
    "name": "ipython",
    "version": 3
   },
   "file_extension": ".py",
   "mimetype": "text/x-python",
   "name": "python",
   "nbconvert_exporter": "python",
   "pygments_lexer": "ipython3",
   "version": "3.10.16"
  }
 },
 "nbformat": 4,
 "nbformat_minor": 2
}
